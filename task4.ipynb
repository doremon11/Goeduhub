{
  "nbformat": 4,
  "nbformat_minor": 0,
  "metadata": {
    "colab": {
      "name": "task4.ipynb",
      "provenance": [],
      "collapsed_sections": [],
      "authorship_tag": "ABX9TyPReuKdr+E6gfHvj0DR5g3F",
      "include_colab_link": true
    },
    "kernelspec": {
      "name": "python3",
      "display_name": "Python 3"
    },
    "language_info": {
      "name": "python"
    }
  },
  "cells": [
    {
      "cell_type": "markdown",
      "metadata": {
        "id": "view-in-github",
        "colab_type": "text"
      },
      "source": [
        "<a href=\"https://colab.research.google.com/github/doremon11/Goeduhub-GO_STP_4414-/blob/main/task4.ipynb\" target=\"_parent\"><img src=\"https://colab.research.google.com/assets/colab-badge.svg\" alt=\"Open In Colab\"/></a>"
      ]
    },
    {
      "cell_type": "markdown",
      "metadata": {
        "id": "l42s2pfkLzZF"
      },
      "source": [
        "Assignment/Task 3\n",
        "Reg No.:-GO_STP_4414\n",
        "Name: Kala Sri Sowmya"
      ]
    },
    {
      "cell_type": "markdown",
      "metadata": {
        "id": "majiUsGiL6cr"
      },
      "source": [
        "1.Import the numpy package under the name np and Print the numpy version and the configuration"
      ]
    },
    {
      "cell_type": "code",
      "metadata": {
        "colab": {
          "base_uri": "https://localhost:8080/"
        },
        "id": "eycZSsp0L5lv",
        "outputId": "6b70dcf0-4dec-4861-b517-3663b4797b46"
      },
      "source": [
        "import numpy as np\n",
        "print(np.__version__)\n",
        "print(np.show_config())"
      ],
      "execution_count": 1,
      "outputs": [
        {
          "output_type": "stream",
          "text": [
            "1.19.5\n",
            "blas_mkl_info:\n",
            "  NOT AVAILABLE\n",
            "blis_info:\n",
            "  NOT AVAILABLE\n",
            "openblas_info:\n",
            "    libraries = ['openblas', 'openblas']\n",
            "    library_dirs = ['/usr/local/lib']\n",
            "    language = c\n",
            "    define_macros = [('HAVE_CBLAS', None)]\n",
            "blas_opt_info:\n",
            "    libraries = ['openblas', 'openblas']\n",
            "    library_dirs = ['/usr/local/lib']\n",
            "    language = c\n",
            "    define_macros = [('HAVE_CBLAS', None)]\n",
            "lapack_mkl_info:\n",
            "  NOT AVAILABLE\n",
            "openblas_lapack_info:\n",
            "    libraries = ['openblas', 'openblas']\n",
            "    library_dirs = ['/usr/local/lib']\n",
            "    language = c\n",
            "    define_macros = [('HAVE_CBLAS', None)]\n",
            "lapack_opt_info:\n",
            "    libraries = ['openblas', 'openblas']\n",
            "    library_dirs = ['/usr/local/lib']\n",
            "    language = c\n",
            "    define_macros = [('HAVE_CBLAS', None)]\n",
            "None\n"
          ],
          "name": "stdout"
        }
      ]
    },
    {
      "cell_type": "markdown",
      "metadata": {
        "id": "0mnCxn4iMHXW"
      },
      "source": [
        "2.Create a null vector of size 10"
      ]
    },
    {
      "cell_type": "code",
      "metadata": {
        "colab": {
          "base_uri": "https://localhost:8080/"
        },
        "id": "PIjKpt7wMM1U",
        "outputId": "00b8b773-43ba-425b-d262-06bb50dcf18b"
      },
      "source": [
        "import numpy as np\n",
        "x = np.zeros(10)\n",
        "print(x)"
      ],
      "execution_count": 2,
      "outputs": [
        {
          "output_type": "stream",
          "text": [
            "[0. 0. 0. 0. 0. 0. 0. 0. 0. 0.]\n"
          ],
          "name": "stdout"
        }
      ]
    },
    {
      "cell_type": "markdown",
      "metadata": {
        "id": "5rjTWNB_MUNG"
      },
      "source": [
        "3.Create Simple 1-D array and check type and check data types in array"
      ]
    },
    {
      "cell_type": "code",
      "metadata": {
        "colab": {
          "base_uri": "https://localhost:8080/"
        },
        "id": "HfnyreF2MbTy",
        "outputId": "9582d40b-7c46-4d0e-8451-258518293c87"
      },
      "source": [
        "import numpy as np\n",
        "a = np.array([1, 2, 3])   \n",
        "print(type(a))\n",
        "print(a.dtype)"
      ],
      "execution_count": 3,
      "outputs": [
        {
          "output_type": "stream",
          "text": [
            "<class 'numpy.ndarray'>\n",
            "int64\n"
          ],
          "name": "stdout"
        }
      ]
    },
    {
      "cell_type": "markdown",
      "metadata": {
        "id": "UtM6dFxWMhzh"
      },
      "source": [
        "4.How to find number of dimensions, bytes per element and bytes of memory used?"
      ]
    },
    {
      "cell_type": "code",
      "metadata": {
        "colab": {
          "base_uri": "https://localhost:8080/"
        },
        "id": "uMeb5uAmMiuM",
        "outputId": "17bbe2ef-be1e-4920-c160-349990d7193a"
      },
      "source": [
        "import numpy as np\n",
        "  \n",
        "# create a numpy 1d-array\n",
        "x = np.array([100,20,34])\n",
        "  \n",
        "print(\"Size of the array: \",x.size)\n",
        "  \n",
        "print(\"Memory size of one array element in bytes: \",x.itemsize)\n",
        "  \n",
        "# memory size of numpy array in bytes\n",
        "print(\"Memory size of numpy array in bytes:\",x.size * x.itemsize)"
      ],
      "execution_count": 4,
      "outputs": [
        {
          "output_type": "stream",
          "text": [
            "Size of the array:  3\n",
            "Memory size of one array element in bytes:  8\n",
            "Memory size of numpy array in bytes: 24\n"
          ],
          "name": "stdout"
        }
      ]
    },
    {
      "cell_type": "markdown",
      "metadata": {
        "id": "_1QOYGkWMmp1"
      },
      "source": [
        "5.Create a null vector of size 10 but the fifth value which is 1"
      ]
    },
    {
      "cell_type": "code",
      "metadata": {
        "colab": {
          "base_uri": "https://localhost:8080/"
        },
        "id": "bOFmHIDQMqOP",
        "outputId": "f5232297-9630-4c37-c07e-688196bd9bdd"
      },
      "source": [
        "import numpy as np\n",
        "x = np.zeros(10)\n",
        "print(x)\n",
        "print(\"Update fifth value to 1\")\n",
        "x[4] = 1\n",
        "print(x)"
      ],
      "execution_count": 5,
      "outputs": [
        {
          "output_type": "stream",
          "text": [
            "[0. 0. 0. 0. 0. 0. 0. 0. 0. 0.]\n",
            "Update fifth value to 1\n",
            "[0. 0. 0. 0. 1. 0. 0. 0. 0. 0.]\n"
          ],
          "name": "stdout"
        }
      ]
    },
    {
      "cell_type": "markdown",
      "metadata": {
        "id": "k5GI4RYhMt_g"
      },
      "source": [
        "6.Create a vector with values ranging from 10 to 49"
      ]
    },
    {
      "cell_type": "code",
      "metadata": {
        "colab": {
          "base_uri": "https://localhost:8080/"
        },
        "id": "BFZ7o0bmMyUe",
        "outputId": "1052852a-c88c-4cc6-ffc4-f5b4f0aefe64"
      },
      "source": [
        "import numpy as np\n",
        "v = np.arange(10,49)\n",
        "print(v)"
      ],
      "execution_count": 6,
      "outputs": [
        {
          "output_type": "stream",
          "text": [
            "[10 11 12 13 14 15 16 17 18 19 20 21 22 23 24 25 26 27 28 29 30 31 32 33\n",
            " 34 35 36 37 38 39 40 41 42 43 44 45 46 47 48]\n"
          ],
          "name": "stdout"
        }
      ]
    },
    {
      "cell_type": "markdown",
      "metadata": {
        "id": "lVcZAA8CM4kD"
      },
      "source": [
        "7.Reverse a vector (first element becomes last)"
      ]
    },
    {
      "cell_type": "code",
      "metadata": {
        "colab": {
          "base_uri": "https://localhost:8080/"
        },
        "id": "wolI-8EWM5fD",
        "outputId": "4baeb093-01d3-4296-d601-a01e9f191df5"
      },
      "source": [
        "import numpy as np\n",
        "x = np.arange(12, 38)\n",
        "print(\"Original array:\")\n",
        "print(x)\n",
        "print(\"Reverse array:\")\n",
        "x = x[::-1]\n",
        "print(x)"
      ],
      "execution_count": 7,
      "outputs": [
        {
          "output_type": "stream",
          "text": [
            "Original array:\n",
            "[12 13 14 15 16 17 18 19 20 21 22 23 24 25 26 27 28 29 30 31 32 33 34 35\n",
            " 36 37]\n",
            "Reverse array:\n",
            "[37 36 35 34 33 32 31 30 29 28 27 26 25 24 23 22 21 20 19 18 17 16 15 14\n",
            " 13 12]\n"
          ],
          "name": "stdout"
        }
      ]
    },
    {
      "cell_type": "markdown",
      "metadata": {
        "id": "mUJPqa8uNAoE"
      },
      "source": [
        "8.Create a 3x3 matrix with values ranging from 0 to 8"
      ]
    },
    {
      "cell_type": "code",
      "metadata": {
        "colab": {
          "base_uri": "https://localhost:8080/"
        },
        "id": "IoXlfDMfNBlB",
        "outputId": "f0efe619-0bfa-4687-d5f5-ac4f9e1f584f"
      },
      "source": [
        "import numpy as np\n",
        "x =  np.arange(0, 9).reshape(3,3)\n",
        "print(x)"
      ],
      "execution_count": 8,
      "outputs": [
        {
          "output_type": "stream",
          "text": [
            "[[0 1 2]\n",
            " [3 4 5]\n",
            " [6 7 8]]\n"
          ],
          "name": "stdout"
        }
      ]
    },
    {
      "cell_type": "markdown",
      "metadata": {
        "id": "8230sDzwNHxO"
      },
      "source": [
        "9.Find indices of non-zero elements from [1,2,0,0,4,0]"
      ]
    },
    {
      "cell_type": "code",
      "metadata": {
        "colab": {
          "base_uri": "https://localhost:8080/"
        },
        "id": "k8Lesy6ZNIx5",
        "outputId": "93362843-4967-40d7-8af0-f20328f3ee3e"
      },
      "source": [
        "import numpy as np\n",
        "nums = np.array([1,2,0,0,4,0])\n",
        "print(\"Original array:\")\n",
        "print(nums)\n",
        "print(\"Indices of elements equal to zero of the said array:\")\n",
        "result = np.where(nums == 0)[0]\n",
        "print(result)"
      ],
      "execution_count": 9,
      "outputs": [
        {
          "output_type": "stream",
          "text": [
            "Original array:\n",
            "[1 2 0 0 4 0]\n",
            "Indices of elements equal to zero of the said array:\n",
            "[2 3 5]\n"
          ],
          "name": "stdout"
        }
      ]
    },
    {
      "cell_type": "markdown",
      "metadata": {
        "id": "p3sz_mufNO_N"
      },
      "source": [
        "10.Create a 3x3 identity matrix"
      ]
    },
    {
      "cell_type": "code",
      "metadata": {
        "colab": {
          "base_uri": "https://localhost:8080/"
        },
        "id": "JrwJNC06NQC5",
        "outputId": "0242e96c-57ee-4ee9-e887-c48b1c2fd19b"
      },
      "source": [
        "import numpy as np\n",
        "array_2D=np.eye(3)\n",
        "print('3x3 matrix:')\n",
        "print(array_2D)"
      ],
      "execution_count": 10,
      "outputs": [
        {
          "output_type": "stream",
          "text": [
            "3x3 matrix:\n",
            "[[1. 0. 0.]\n",
            " [0. 1. 0.]\n",
            " [0. 0. 1.]]\n"
          ],
          "name": "stdout"
        }
      ]
    },
    {
      "cell_type": "markdown",
      "metadata": {
        "id": "9CyyfgVVNXQQ"
      },
      "source": [
        "11.Create a 3x3x3 array with random values"
      ]
    },
    {
      "cell_type": "code",
      "metadata": {
        "colab": {
          "base_uri": "https://localhost:8080/"
        },
        "id": "uCld7Nu2NYWP",
        "outputId": "da090aec-4ce9-4091-b8c5-a025a1c7ca7a"
      },
      "source": [
        "import numpy as np\n",
        "x = np.random.random((3,3,3))\n",
        "print(x)"
      ],
      "execution_count": 11,
      "outputs": [
        {
          "output_type": "stream",
          "text": [
            "[[[0.94548495 0.77600955 0.57059364]\n",
            "  [0.37821438 0.7582331  0.4059736 ]\n",
            "  [0.7082082  0.45674228 0.00734892]]\n",
            "\n",
            " [[0.03863536 0.08578408 0.19620155]\n",
            "  [0.7555747  0.88440341 0.88367068]\n",
            "  [0.21294775 0.43740443 0.74243812]]\n",
            "\n",
            " [[0.94504855 0.34985722 0.05966971]\n",
            "  [0.01376126 0.47243881 0.25128077]\n",
            "  [0.06295462 0.83311252 0.21007679]]]\n"
          ],
          "name": "stdout"
        }
      ]
    },
    {
      "cell_type": "markdown",
      "metadata": {
        "id": "McyaD2L7Nbu2"
      },
      "source": [
        "12.Create a 10x10 array with random values and find the minimum and maximum values"
      ]
    },
    {
      "cell_type": "code",
      "metadata": {
        "colab": {
          "base_uri": "https://localhost:8080/"
        },
        "id": "HczeCVgNNfoZ",
        "outputId": "15166cb2-aef6-4e2b-d88d-0af508b8497c"
      },
      "source": [
        "import numpy as np\n",
        "x = np.random.random((10,10))\n",
        "print(\"Original Array:\")\n",
        "print(x) \n",
        "xmin, xmax = x.min(), x.max()\n",
        "print(\"Minimum and Maximum Values:\")\n",
        "print(xmin, xmax)"
      ],
      "execution_count": 12,
      "outputs": [
        {
          "output_type": "stream",
          "text": [
            "Original Array:\n",
            "[[0.97909243 0.61397461 0.48225362 0.20850194 0.88172475 0.42593896\n",
            "  0.13944725 0.49581887 0.43014518 0.15941719]\n",
            " [0.02866964 0.26946551 0.95832757 0.25925851 0.14492259 0.02644575\n",
            "  0.9672438  0.14699309 0.22491074 0.95952393]\n",
            " [0.26865257 0.68040301 0.36782829 0.66649032 0.73527097 0.52662595\n",
            "  0.36569645 0.02330158 0.23289277 0.6934448 ]\n",
            " [0.43985045 0.8601855  0.65978419 0.423025   0.21252998 0.52563267\n",
            "  0.67512909 0.13837456 0.16022034 0.98017825]\n",
            " [0.46229118 0.41803193 0.46739488 0.41748706 0.75477563 0.4763877\n",
            "  0.9918702  0.26647446 0.41251662 0.78896948]\n",
            " [0.42969822 0.99251823 0.50033047 0.14218845 0.6424704  0.90357085\n",
            "  0.00452984 0.45281833 0.35133258 0.04199669]\n",
            " [0.57859219 0.20147734 0.23948908 0.23633795 0.11203907 0.99759944\n",
            "  0.98466533 0.24103773 0.87067332 0.52781147]\n",
            " [0.85450354 0.59739632 0.41985342 0.9202624  0.86874834 0.44687159\n",
            "  0.77863821 0.8697603  0.36961219 0.64914861]\n",
            " [0.48426366 0.70634393 0.67869858 0.86378533 0.15733227 0.58008974\n",
            "  0.07983104 0.82032038 0.17968219 0.12628511]\n",
            " [0.7712633  0.74560786 0.43461649 0.75411378 0.03860686 0.18326147\n",
            "  0.80052433 0.69253239 0.81082319 0.35587785]]\n",
            "Minimum and Maximum Values:\n",
            "0.004529836999397574 0.9975994400583212\n"
          ],
          "name": "stdout"
        }
      ]
    },
    {
      "cell_type": "markdown",
      "metadata": {
        "id": "9fhJAmsnNtPq"
      },
      "source": [
        "13.Create a random vector of size 30 and find the mean value"
      ]
    },
    {
      "cell_type": "code",
      "metadata": {
        "colab": {
          "base_uri": "https://localhost:8080/"
        },
        "id": "KXSPRSHHNxnz",
        "outputId": "384f7c89-f961-4dea-e4c1-b1e715480b50"
      },
      "source": [
        "import numpy as np\n",
        "x = np.random.random(30)\n",
        "print(x)\n",
        "print(np.mean(x))"
      ],
      "execution_count": 14,
      "outputs": [
        {
          "output_type": "stream",
          "text": [
            "[0.04538248 0.79249928 0.91096201 0.75483415 0.35292042 0.53142885\n",
            " 0.7109579  0.93663291 0.36919438 0.11687471 0.4000869  0.94969026\n",
            " 0.0398631  0.25782903 0.80495642 0.67245125 0.42841765 0.41765232\n",
            " 0.77228848 0.45233654 0.26087652 0.65588261 0.51407918 0.83889138\n",
            " 0.48405774 0.85772444 0.3400001  0.74781516 0.38388245 0.28698091]\n",
            "0.5362483184986157\n"
          ],
          "name": "stdout"
        }
      ]
    },
    {
      "cell_type": "markdown",
      "metadata": {
        "id": "hIwzidB1NjsI"
      },
      "source": [
        "14.Create a 2d array with 1 on the border and 0 inside"
      ]
    },
    {
      "cell_type": "code",
      "metadata": {
        "colab": {
          "base_uri": "https://localhost:8080/"
        },
        "id": "dCaoyJBFNosz",
        "outputId": "33b542be-2c0f-4944-9359-6bf7c26a6983"
      },
      "source": [
        "import numpy as np\n",
        "x = np.ones((5,5))\n",
        "print(\"Original array:\")\n",
        "print(x)\n",
        "print(\"1 on the border and 0 inside in the array\")\n",
        "x[1:-1,1:-1] = 0\n",
        "print(x)"
      ],
      "execution_count": 13,
      "outputs": [
        {
          "output_type": "stream",
          "text": [
            "Original array:\n",
            "[[1. 1. 1. 1. 1.]\n",
            " [1. 1. 1. 1. 1.]\n",
            " [1. 1. 1. 1. 1.]\n",
            " [1. 1. 1. 1. 1.]\n",
            " [1. 1. 1. 1. 1.]]\n",
            "1 on the border and 0 inside in the array\n",
            "[[1. 1. 1. 1. 1.]\n",
            " [1. 0. 0. 0. 1.]\n",
            " [1. 0. 0. 0. 1.]\n",
            " [1. 0. 0. 0. 1.]\n",
            " [1. 1. 1. 1. 1.]]\n"
          ],
          "name": "stdout"
        }
      ]
    },
    {
      "cell_type": "markdown",
      "metadata": {
        "id": "Cgv5MQeFN3sM"
      },
      "source": [
        "15.How to add a border (filled with 0's) around an existing array?"
      ]
    },
    {
      "cell_type": "code",
      "metadata": {
        "colab": {
          "base_uri": "https://localhost:8080/"
        },
        "id": "plIwbXJxOJdz",
        "outputId": "6dddf1bd-14dc-4e01-d2cb-49fca7d5a2c1"
      },
      "source": [
        "import numpy as np\n",
        "x = np.ones((3,3))\n",
        "print(\"Original array:\")\n",
        "print(x)\n",
        "print(\"0 on the border and 1 inside in the array\")\n",
        "x = np.pad(x, pad_width=1, mode='constant', constant_values=0)\n",
        "print(x)"
      ],
      "execution_count": 15,
      "outputs": [
        {
          "output_type": "stream",
          "text": [
            "Original array:\n",
            "[[1. 1. 1.]\n",
            " [1. 1. 1.]\n",
            " [1. 1. 1.]]\n",
            "0 on the border and 1 inside in the array\n",
            "[[0. 0. 0. 0. 0.]\n",
            " [0. 1. 1. 1. 0.]\n",
            " [0. 1. 1. 1. 0.]\n",
            " [0. 1. 1. 1. 0.]\n",
            " [0. 0. 0. 0. 0.]]\n"
          ],
          "name": "stdout"
        }
      ]
    },
    {
      "cell_type": "markdown",
      "metadata": {
        "id": "gMsHRqcWN8ib"
      },
      "source": [
        "16.How to Accessing/Changing specific elements, rows, columns, etc in Numpy array?\n",
        "\n",
        "Example - [[ 1 2 3 4 5 6 7] [ 8 9 10 11 12 13 14]]\n",
        "\n",
        "Get 13, get first row only, get 3rd column only, get [2, 4, 6], replace 13 by 20"
      ]
    },
    {
      "cell_type": "code",
      "metadata": {
        "colab": {
          "base_uri": "https://localhost:8080/"
        },
        "id": "l77HliPIOMU9",
        "outputId": "184e9c38-0791-4637-9762-8c9718b1c22c"
      },
      "source": [
        "import numpy as np\n",
        "Arr= np.array([[1,2,3,4,5,6,7],[8,9,10,11,12,13,14]])\n",
        "print(Arr)"
      ],
      "execution_count": 16,
      "outputs": [
        {
          "output_type": "stream",
          "text": [
            "[[ 1  2  3  4  5  6  7]\n",
            " [ 8  9 10 11 12 13 14]]\n"
          ],
          "name": "stdout"
        }
      ]
    },
    {
      "cell_type": "code",
      "metadata": {
        "colab": {
          "base_uri": "https://localhost:8080/"
        },
        "id": "nKa2jryWOQXb",
        "outputId": "61de6592-e1c5-45b7-8cdf-f2450ee0c31f"
      },
      "source": [
        "print(Arr[:,2])"
      ],
      "execution_count": 17,
      "outputs": [
        {
          "output_type": "stream",
          "text": [
            "[ 3 10]\n"
          ],
          "name": "stdout"
        }
      ]
    },
    {
      "cell_type": "markdown",
      "metadata": {
        "id": "5nGmWoEkOWfI"
      },
      "source": [
        "17.How to Convert a 1D array to a 2D array with 2 rows"
      ]
    },
    {
      "cell_type": "code",
      "metadata": {
        "colab": {
          "base_uri": "https://localhost:8080/"
        },
        "id": "nPPQEtLfOXSs",
        "outputId": "694d7cb2-a193-4319-fb1e-875bba9c9975"
      },
      "source": [
        "import numpy as np\n",
        "\n",
        "arr = np.array([1, 2, 3, 4, 5, 6])\n",
        "\n",
        "newarr = arr.reshape(2, 3)\n",
        "\n",
        "print(newarr)"
      ],
      "execution_count": 18,
      "outputs": [
        {
          "output_type": "stream",
          "text": [
            "[[1 2 3]\n",
            " [4 5 6]]\n"
          ],
          "name": "stdout"
        }
      ]
    },
    {
      "cell_type": "markdown",
      "metadata": {
        "id": "3J7g40C1Oayu"
      },
      "source": [
        "18.Create the following pattern without hardcoding. Use only numpy functions and the below input array a.\n",
        "\n",
        "Input:\n",
        "\n",
        "a = np.array([1,2,3])\n",
        "\n",
        "Desired Output:\n",
        "\n",
        " array([1, 1, 1, 2, 2, 2, 3, 3, 3, 1, 2, 3, 1, 2, 3, 1, 2, 3])"
      ]
    },
    {
      "cell_type": "code",
      "metadata": {
        "colab": {
          "base_uri": "https://localhost:8080/"
        },
        "id": "73bKtLD2OhOz",
        "outputId": "68474e56-8a18-4fa7-8697-302d6b0abbe3"
      },
      "source": [
        "import numpy as np\n",
        "a=np.array([1,2,3])\n",
        "print(np.r_[np.repeat(a, 3), np.tile(a, 3)])"
      ],
      "execution_count": 19,
      "outputs": [
        {
          "output_type": "stream",
          "text": [
            "[1 1 1 2 2 2 3 3 3 1 2 3 1 2 3 1 2 3]\n"
          ],
          "name": "stdout"
        }
      ]
    },
    {
      "cell_type": "markdown",
      "metadata": {
        "id": "K6i8SqFWOsEu"
      },
      "source": [
        "19.Write a program to show how Numpy taking less memory compared to Python List?"
      ]
    },
    {
      "cell_type": "code",
      "metadata": {
        "colab": {
          "base_uri": "https://localhost:8080/"
        },
        "id": "1hWn3hkrOs_f",
        "outputId": "68a3c32f-315c-45dd-c715-7b0d5eefa56e"
      },
      "source": [
        "import numpy as np\n",
        "  \n",
        "# importing system module\n",
        "import sys\n",
        "  \n",
        "# declaring a list of 1000 elements \n",
        "S= range(1000)\n",
        "  \n",
        "# printing size of each element of the list\n",
        "print(\"Size of each element of list in bytes: \",sys.getsizeof(S))\n",
        "  \n",
        "# printing size of the whole list\n",
        "print(\"Size of the whole list in bytes: \",sys.getsizeof(S)*len(S))\n",
        "  \n",
        "# declaring a Numpy array of 1000 elements \n",
        "D= np.arange(1000)\n",
        "  \n",
        "# printing size of each element of the Numpy array\n",
        "print(\"Size of each element of the Numpy array in bytes: \",D.itemsize)\n",
        "  \n",
        "# printing size of the whole Numpy array\n",
        "print(\"Size of the whole Numpy array in bytes: \",D.size*D.itemsize)"
      ],
      "execution_count": 20,
      "outputs": [
        {
          "output_type": "stream",
          "text": [
            "Size of each element of list in bytes:  48\n",
            "Size of the whole list in bytes:  48000\n",
            "Size of each element of the Numpy array in bytes:  8\n",
            "Size of the whole Numpy array in bytes:  8000\n"
          ],
          "name": "stdout"
        }
      ]
    },
    {
      "cell_type": "markdown",
      "metadata": {
        "id": "wB6Ok_r4OxEe"
      },
      "source": [
        "20.Write a program to show how Numpy taking less time compared to Python List?"
      ]
    },
    {
      "cell_type": "code",
      "metadata": {
        "colab": {
          "base_uri": "https://localhost:8080/"
        },
        "id": "_cnj3P3NO3Cv",
        "outputId": "5280f9d4-ca70-433e-8d9a-d2fbdcdb42e3"
      },
      "source": [
        "import numpy\n",
        "import time\n",
        "   \n",
        "# size of arrays and lists\n",
        "size = 1000000  \n",
        "   \n",
        "# declaring lists\n",
        "list1 = range(size)\n",
        "list2 = range(size)\n",
        "   \n",
        "# declaring arrays\n",
        "array1 = numpy.arange(size)  \n",
        "array2 = numpy.arange(size)\n",
        "   \n",
        "# capturing time before the multiplication of Python lists\n",
        "initialTime = time.time()\n",
        "  \n",
        "# multiplying  elements of both the lists and stored in another list\n",
        "resultantList = [(a * b) for a, b in zip(list1, list2)]\n",
        "   \n",
        "# calculating execution time\n",
        "print(\"Time taken by Lists to perform multiplication:\", \n",
        "      (time.time() - initialTime),\n",
        "      \"seconds\")\n",
        "   \n",
        "# capturing time before the multiplication of Numpy arrays\n",
        "initialTime = time.time()\n",
        "  \n",
        "# multiplying  elements of both the Numpy arrays and stored in another Numpy array \n",
        "resultantArray = array1 * array2\n",
        "   \n",
        "# calculating execution time \n",
        "print(\"Time taken by NumPy Arrays to perform multiplication:\",\n",
        "      (time.time() - initialTime),\n",
        "      \"seconds\")"
      ],
      "execution_count": 21,
      "outputs": [
        {
          "output_type": "stream",
          "text": [
            "Time taken by Lists to perform multiplication: 0.16809558868408203 seconds\n",
            "Time taken by NumPy Arrays to perform multiplication: 0.0036094188690185547 seconds\n"
          ],
          "name": "stdout"
        }
      ]
    }
  ]
}